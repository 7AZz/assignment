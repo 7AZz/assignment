{
 "cells": [
  {
   "cell_type": "code",
   "execution_count": 3,
   "id": "3dd8ca05-339d-40b8-97e2-11f8a7cadc64",
   "metadata": {},
   "outputs": [
    {
     "name": "stdout",
     "output_type": "stream",
     "text": [
      "1\n",
      "2\n",
      "3\n",
      "4\n",
      "5\n",
      "1\n",
      "2\n",
      "3\n",
      "4\n"
     ]
    }
   ],
   "source": [
    "#1. Explain wuth an example each when to use a for loop and a while loop.\n",
    "\n",
    "#'for' loop : we use a 'for' loop when we want to iterate over a sequence of items, such as a list and a string. \n",
    "#The 'for' loop iterates over each item in the sequence and executes a block of code for each item.\n",
    "#here's an example of using 'for' loop:\n",
    "numbers = [1, 2, 3, 4, 5]\n",
    "for num in numbers:\n",
    "    print(num)\n",
    "    \n",
    "#'while' loop : we use 'while' loop when we want to iterate until a certain condition is met.\n",
    "#The 'while' loop countinues to execute a block of code as long as the condition is true.\n",
    "#here's an example of using 'while' loop:\n",
    "\n",
    "num = 1\n",
    "while num < 5:\n",
    "    print(num)\n",
    "    num += 1"
   ]
  },
  {
   "cell_type": "code",
   "execution_count": 1,
   "id": "cc122f69-81ec-4216-b2a7-a3e07484c99f",
   "metadata": {},
   "outputs": [
    {
     "name": "stdout",
     "output_type": "stream",
     "text": [
      "Sum of first 10 natural numbers : 55\n",
      "Product of first 10 natural numbers : 3628800\n"
     ]
    }
   ],
   "source": [
    "#2. Program to print th sum and product of the first 10 natural numbers using for and while loop\n",
    "\n",
    "sum = 0\n",
    "product = 1\n",
    "\n",
    "for i in range(1,11) :\n",
    "    sum += i\n",
    "    product *= i\n",
    "    \n",
    "print(\"Sum of first 10 natural numbers :\",sum)\n",
    "print(\"Product of first 10 natural numbers :\",product)\n",
    "    \n",
    "\n",
    "    "
   ]
  },
  {
   "cell_type": "code",
   "execution_count": 5,
   "id": "d8eb782a-7100-4bb2-9228-e6c44335d754",
   "metadata": {},
   "outputs": [
    {
     "name": "stdin",
     "output_type": "stream",
     "text": [
      "Enter units of electricity consumed:  310\n"
     ]
    },
    {
     "name": "stdout",
     "output_type": "stream",
     "text": [
      "Electricity bill = Rs. 2250.0\n"
     ]
    }
   ],
   "source": [
    "#3. Python program to compute the electricity bill for a household based on the given pricing scheme:\n",
    "\n",
    "units = int(input(\"Enter units of electricity consumed: \"))\n",
    "\n",
    "if units <= 100:\n",
    "    bill = units * 4.5\n",
    "elif units <= 200:\n",
    "    bill = 100 * 4.5 + (units - 100) * 6\n",
    "elif units <= 300:\n",
    "    bill = 100 * 4.5 + 100 * 6 + (units - 200) * 10\n",
    "else:\n",
    "    bill = 100 * 4.5 + 100 * 6 + 100 * 10 + (units - 300) * 20\n",
    "\n",
    "print(\"Electricity bill = Rs.\", bill)\n"
   ]
  },
  {
   "cell_type": "code",
   "execution_count": 10,
   "id": "aee01d7e-dab3-4cfe-b11e-85cd6539e388",
   "metadata": {},
   "outputs": [
    {
     "name": "stdout",
     "output_type": "stream",
     "text": [
      "Numbers whose cube is divisible by 4 or 5: [2, 4, 5, 6, 8, 10, 12, 14, 15, 16, 18, 20, 22, 24, 25, 26, 28, 30, 32, 34, 35, 36, 38, 40, 42, 44, 45, 46, 48, 50, 52, 54, 55, 56, 58, 60, 62, 64, 65, 66, 68, 70, 72, 74, 75, 76, 78, 80, 82, 84, 85, 86, 88, 90, 92, 94, 95, 96, 98, 100]\n"
     ]
    }
   ],
   "source": [
    "#4. program to calculate cube of each numbers from 1 to 100 and if the cube is divisible by 4 and 5 then append.\n",
    "\n",
    "#using 'for' loop :\n",
    "\n",
    "num_list = []\n",
    "\n",
    "\n",
    "for num in range(1, 101):\n",
    "    cube = num ** 3  \n",
    "    \n",
    "    if cube % 4 == 0 or cube % 5 == 0:\n",
    "        num_list.append(num)\n",
    "\n",
    "print(\"Numbers whose cube is divisible by 4 or 5:\", num_list)\n"
   ]
  },
  {
   "cell_type": "code",
   "execution_count": 11,
   "id": "a259ba72-34dd-49b8-ad88-11e012975e9d",
   "metadata": {},
   "outputs": [
    {
     "name": "stdout",
     "output_type": "stream",
     "text": [
      "Total numbers of vowels : 11\n"
     ]
    }
   ],
   "source": [
    "#5.Count vowels in \"I want to become a data scientist :\n",
    "\n",
    "string = \"I want to become a data scientist\"\n",
    "\n",
    "count = 0\n",
    "i = 0\n",
    "for i in range(len(string)) :\n",
    "    if ( (string[i] == \"a\") or (string[i] == \"e\") or (string[i] == \"i\") or (string[i] == \"o\") or (string[i] == \"u\") ):\n",
    "        count += 1\n",
    "print(\"Total numbers of vowels :\",count)"
   ]
  },
  {
   "cell_type": "code",
   "execution_count": null,
   "id": "cdaa7be3-6ec7-406e-b3b3-b9f571e41350",
   "metadata": {},
   "outputs": [],
   "source": []
  }
 ],
 "metadata": {
  "kernelspec": {
   "display_name": "Python 3 (ipykernel)",
   "language": "python",
   "name": "python3"
  },
  "language_info": {
   "codemirror_mode": {
    "name": "ipython",
    "version": 3
   },
   "file_extension": ".py",
   "mimetype": "text/x-python",
   "name": "python",
   "nbconvert_exporter": "python",
   "pygments_lexer": "ipython3",
   "version": "3.10.8"
  }
 },
 "nbformat": 4,
 "nbformat_minor": 5
}
