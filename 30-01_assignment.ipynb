{
 "cells": [
  {
   "cell_type": "code",
   "execution_count": 1,
   "id": "57576580-584c-45a8-87ac-2f27dbf02415",
   "metadata": {},
   "outputs": [
    {
     "name": "stdin",
     "output_type": "stream",
     "text": [
      "Enter percentage:  66\n"
     ]
    },
    {
     "name": "stdout",
     "output_type": "stream",
     "text": [
      "Grade:  B\n"
     ]
    }
   ],
   "source": [
    "#1.program to accept percentage from the user and display the grade\n",
    "percentage = float(input(\"Enter percentage: \"))\n",
    "\n",
    "if percentage > 90:\n",
    "    grade = \"A\"\n",
    "elif percentage > 60 and percentage <= 90:\n",
    "    grade = \"B\"\n",
    "elif percentage > 60 and percentage < 80:\n",
    "    grade = \"C\"\n",
    "elif percentage < 60:\n",
    "    grade = \"D\"\n",
    "print(\"Grade: \", grade)"
   ]
  },
  {
   "cell_type": "code",
   "execution_count": 2,
   "id": "72221d99-1da5-4b1f-abd2-5dd70eaab72f",
   "metadata": {},
   "outputs": [
    {
     "name": "stdin",
     "output_type": "stream",
     "text": [
      "Enter the cost price of the Bike: 30000\n"
     ]
    },
    {
     "name": "stdout",
     "output_type": "stream",
     "text": [
      "Road tax to be paid : 1500.0\n"
     ]
    }
   ],
   "source": [
    "#2.program to accept the cost price of a bike and display the road tax to be paid\n",
    "cost_price= float(input(\"Enter the cost price of the Bike:\"))\n",
    "if cost_price >100000 :\n",
    "    road_tax = cost_price * 0.15\n",
    "elif cost_price >50000 and cost_price <= 100000 :\n",
    "    road_tax = cost_price * 0.10\n",
    "else :\n",
    "    road_tax = cost_price * 0.05\n",
    "print(\"Road tax to be paid :\", road_tax)"
   ]
  },
  {
   "cell_type": "code",
   "execution_count": 3,
   "id": "c6c2acd5-53c5-484c-b5b8-22335c6e6e85",
   "metadata": {},
   "outputs": [
    {
     "name": "stdin",
     "output_type": "stream",
     "text": [
      "Enter the city name : delhi\n"
     ]
    },
    {
     "name": "stdout",
     "output_type": "stream",
     "text": [
      "Monument :  Red Fort\n"
     ]
    }
   ],
   "source": [
    "#3.program  to accept any city from the user and display monument of that city.\n",
    "city_name= input(\"Enter the city name :\")\n",
    "if city_name.lower() == \"delhi\" :\n",
    "    monument = \"Red Fort\"\n",
    "elif city_name.lower() == \"agra\" :\n",
    "    monument = \"Taj Mahal\"\n",
    "elif city_name.lower() == \"jaipur\" :\n",
    "    monument = \"Jai Mahal\"\n",
    "else :\n",
    "    monument = \"No monument found in the city\"\n",
    "print(\"Monument : \", monument)"
   ]
  },
  {
   "cell_type": "code",
   "execution_count": 4,
   "id": "52b0c62e-871c-4767-bdf1-3400db5c396b",
   "metadata": {},
   "outputs": [
    {
     "name": "stdin",
     "output_type": "stream",
     "text": [
      "Enter a number : 300\n"
     ]
    },
    {
     "name": "stdout",
     "output_type": "stream",
     "text": [
      "The given number be divide by 3 is 4\n"
     ]
    }
   ],
   "source": [
    "#4.Check how many times a given number can be divided by 3 before it is less than or equal to 10.\n",
    "\n",
    "num = int(input(\"Enter a number :\"))\n",
    "count = 0\n",
    "while num > 10:\n",
    "    num = num / 3\n",
    "    count = count+1\n",
    "print(\"The given number be divide by 3 is\",count)"
   ]
  },
  {
   "cell_type": "code",
   "execution_count": 6,
   "id": "07aed819-f6fb-417f-bfba-a0a0cf4a6349",
   "metadata": {
    "scrolled": true,
    "tags": []
   },
   "outputs": [
    {
     "name": "stdout",
     "output_type": "stream",
     "text": [
      "1\n",
      "2\n",
      "3\n",
      "4\n",
      "5\n"
     ]
    }
   ],
   "source": [
    "#5. Why and when to use while Loop in python.\n",
    "#A while loop in Python is used to execute a block of statements repeatedly until a given condition is satisfied.\n",
    "#And when the condition becomes false, the line immediately after the loop in the program is executed.\n",
    "\n",
    "#Here’s an example of a while loop in Python:\n",
    "\n",
    "i = 1\n",
    "while i < 6:\n",
    "  print(i)\n",
    "  i += 1\n",
    "\n",
    "#In this example, the while loop will continue to execute as long as the variable i is less than 6.\n",
    "#The print(i) statement will print the value of i to the console, and the i += 1 statement will increment the value of i by 1 on each iteration of the loop"
   ]
  },
  {
   "cell_type": "code",
   "execution_count": 10,
   "id": "23843ade-620d-47a4-b747-56a943287460",
   "metadata": {},
   "outputs": [
    {
     "name": "stdout",
     "output_type": "stream",
     "text": [
      "1\n",
      "12\n",
      "123\n",
      "1234\n",
      "12345\n",
      "*****\n",
      "****\n",
      "***\n",
      "**\n",
      "*\n",
      "*\n",
      "**\n",
      "***\n",
      "****\n",
      "*****\n"
     ]
    }
   ],
   "source": [
    "#6. Use nested while loop to print 3 different pattern.\n",
    "\n",
    "#pattern 1:\n",
    "\n",
    "i = 1\n",
    "while i <= 5:\n",
    "    j = 1\n",
    "    while j <= i:\n",
    "        print(j,end=\"\")\n",
    "        j += 1\n",
    "    print()\n",
    "    i +=1\n",
    "\n",
    "#pattern 2:\n",
    "\n",
    "i = 5\n",
    "while i >= 1:\n",
    "    j = 1\n",
    "    while j <= i:\n",
    "        print(\"*\", end=\"\")\n",
    "        j += 1\n",
    "    print()\n",
    "    i -= 1\n",
    "    \n",
    "#pattern 3:\n",
    "\n",
    "i = 1\n",
    "while i <= 5:\n",
    "    j = 1\n",
    "    while j <= i:\n",
    "        print(\"*\",end=\"\")\n",
    "        j += 1\n",
    "    print()\n",
    "    i += 1"
   ]
  },
  {
   "cell_type": "code",
   "execution_count": 2,
   "id": "7a8893f7-78f7-464e-b3f5-101d9374427e",
   "metadata": {},
   "outputs": [
    {
     "name": "stdout",
     "output_type": "stream",
     "text": [
      "10\n",
      "9\n",
      "8\n",
      "7\n",
      "6\n",
      "5\n",
      "4\n",
      "3\n",
      "2\n",
      "1\n"
     ]
    }
   ],
   "source": [
    "#7. Reverse a while loop to display numbers from 10 to 1.\n",
    "\n",
    "i = 10\n",
    "while i>0 :\n",
    "    print(i)\n",
    "    i = i -1"
   ]
  },
  {
   "cell_type": "code",
   "execution_count": null,
   "id": "1fb84850-b862-470a-be99-57cb70a40fe8",
   "metadata": {},
   "outputs": [],
   "source": []
  }
 ],
 "metadata": {
  "kernelspec": {
   "display_name": "Python 3 (ipykernel)",
   "language": "python",
   "name": "python3"
  },
  "language_info": {
   "codemirror_mode": {
    "name": "ipython",
    "version": 3
   },
   "file_extension": ".py",
   "mimetype": "text/x-python",
   "name": "python",
   "nbconvert_exporter": "python",
   "pygments_lexer": "ipython3",
   "version": "3.10.8"
  }
 },
 "nbformat": 4,
 "nbformat_minor": 5
}
