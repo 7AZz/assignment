{
 "cells": [
  {
   "cell_type": "code",
   "execution_count": null,
   "id": "4ef99632-e1e2-41ab-8f26-acae96f307e1",
   "metadata": {},
   "outputs": [],
   "source": [
    "1.Python programming language was developed by Guido van Rossum.\n",
    "\n",
    "2.Python supports multiple programming paradigms such as object-oriented, imperative, functional, and procedural.\n",
    "\n",
    "3.Yes, Python is case sensitive when dealing with identifiers.\n",
    "\n",
    "4.The correct extension for Python file is \".py\".\n",
    "\n",
    "5.Python code is interpreted, which means that the code is executed line by line.\n",
    "\n",
    "6.Blocks of code in Python are defined using indentation. Some commonly used blocks of code include function definitions, loops, and conditional statements.\n",
    "\n",
    "7.The \"#\" character is used to give single-line comments in Python.\n",
    "\n",
    "8.The functions which can help us to find the version of Python we are currently working on are \"sys.version\" and \"platform.python_version()\".\n",
    "\n",
    "9.Python supports the creation of anonymous functions at runtime, using a construct called lambda.\n",
    "\n",
    "10.pip stands for \"Pip Installs Packages\" and is a package manager used for installing and managing software packages written in Python.\n",
    "\n",
    "11.Some built-in functions in Python include print(), input(), len(), type(), range(), etc.\n",
    "\n",
    "12.The maximum possible length of an identifier in Python is not fixed, but it is recommended to keep it less than or equal to 79 characters.\n",
    "\n",
    "13.Benefits of using Python include its simplicity, readability, and ease of learning, as well as its large standard library and community support.\n",
    "\n",
    "14.Memory management in Python is handled automatically through a process called garbage collection. Python uses reference counting and a cyclic garbage collector to manage memory.\n",
    "\n",
    "15.To install Python on Windows, download the Python installer from the official website and run it. During installation, ensure that the \"Add Python to PATH\" option is selected to set path variables.\n",
    "\n",
    "16Yes, indentation is required in Python as it is used to define blocks of code such as loops and functions."
   ]
  }
 ],
 "metadata": {
  "kernelspec": {
   "display_name": "Python 3 (ipykernel)",
   "language": "python",
   "name": "python3"
  },
  "language_info": {
   "codemirror_mode": {
    "name": "ipython",
    "version": 3
   },
   "file_extension": ".py",
   "mimetype": "text/x-python",
   "name": "python",
   "nbconvert_exporter": "python",
   "pygments_lexer": "ipython3",
   "version": "3.10.8"
  }
 },
 "nbformat": 4,
 "nbformat_minor": 5
}
