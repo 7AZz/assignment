{
 "cells": [
  {
   "cell_type": "code",
   "execution_count": 1,
   "id": "8a24709e-7e9d-442d-92a7-8daa7692ed8e",
   "metadata": {},
   "outputs": [],
   "source": [
    "#Q1. What is Abstraction in OOps? Explain with an example.\n",
    "\n",
    "#Abstraction in Object-Oriented Programming (OOP) is the process of hiding the implementation details of an object and only showing the necessary features to the user. It can be achieved by using interfaces and abstract classes.\n",
    "#A good example of abstraction is a TV remote. The user only interacts with the buttons on the remote, without knowing the internal workings of how the remote communicates with the TV."
   ]
  },
  {
   "cell_type": "code",
   "execution_count": 2,
   "id": "73504e3c-1bc1-4f60-b88a-2982ff211a7b",
   "metadata": {},
   "outputs": [],
   "source": [
    "#Q2. Differentiate between Abstraction and Encapsulation. Explain with an example.\n",
    "\n",
    "#Abstraction and encapsulation are two important concepts in OOP, but they are different. Abstraction hides the complexity of code while encapsulation hides the internal workings from the outside world .\n",
    "#Abstraction is a design level process, while encapsulation is an implementation level process."
   ]
  },
  {
   "cell_type": "code",
   "execution_count": 3,
   "id": "c1c070f4-94b8-42bc-8e37-7446328ddf99",
   "metadata": {},
   "outputs": [],
   "source": [
    "#Q3. What is abc module in python? Why is it used?\n",
    "\n",
    "# The abc module in Python provides the infrastructure for defining Abstract Base Classes (ABCs).\n",
    "# It allows developers to create classes that cannot be instantiated, but can be used as base classes for other classes. This is useful when you want to define a common interface for a set of classes, but don’t want to allow instances of the base class itself."
   ]
  },
  {
   "cell_type": "code",
   "execution_count": 4,
   "id": "1c0ee8c7-8e7f-4798-8d99-5db75413448d",
   "metadata": {},
   "outputs": [],
   "source": [
    "#Q4. How can we achieve data abstraction?\n",
    "\n",
    "# Data abstraction can be achieved by using interfaces, abstract classes, and encapsulation. By hiding the implementation details and only exposing the necessary features to the user, data abstraction can be achieved."
   ]
  },
  {
   "cell_type": "code",
   "execution_count": null,
   "id": "7aa98c2e-15f1-4164-8e29-e55eaba830d2",
   "metadata": {},
   "outputs": [],
   "source": [
    "#Q5. Can we create an instance of an abstract class? Explain your answer.\n",
    "\n",
    "#"
   ]
  }
 ],
 "metadata": {
  "kernelspec": {
   "display_name": "Python 3 (ipykernel)",
   "language": "python",
   "name": "python3"
  },
  "language_info": {
   "codemirror_mode": {
    "name": "ipython",
    "version": 3
   },
   "file_extension": ".py",
   "mimetype": "text/x-python",
   "name": "python",
   "nbconvert_exporter": "python",
   "pygments_lexer": "ipython3",
   "version": "3.10.8"
  }
 },
 "nbformat": 4,
 "nbformat_minor": 5
}
