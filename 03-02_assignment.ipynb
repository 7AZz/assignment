{
 "cells": [
  {
   "cell_type": "code",
   "execution_count": 3,
   "id": "919edb62-c325-4531-9dfa-0bcc83b6ea4f",
   "metadata": {},
   "outputs": [
    {
     "name": "stdout",
     "output_type": "stream",
     "text": [
      "[1, 3, 5, 7, 9, 11, 13, 15, 17, 19, 21, 23, 25]\n"
     ]
    }
   ],
   "source": [
    "#1. which keyword is used to create a function? Create a funtion to return a list of odd numbers in the range of 1 to 25.\n",
    "\n",
    "# The keyword used to create a function in Puthon is 'def'.\n",
    "def get_odd_numbers():\n",
    "    odd_numbers = []\n",
    "    for num in range(1, 26):\n",
    "        if num % 2 != 0:\n",
    "            odd_numbers.append(num)\n",
    "    return odd_numbers\n",
    "\n",
    "result = get_odd_numbers()\n",
    "\n",
    "print(result)"
   ]
  },
  {
   "cell_type": "code",
   "execution_count": 4,
   "id": "621935b2-225b-4986-8ce2-3258321ca16c",
   "metadata": {},
   "outputs": [
    {
     "name": "stdout",
     "output_type": "stream",
     "text": [
      "Hello, how are you?\n",
      "name: John\n",
      "age: 20\n",
      "grade: A\n"
     ]
    }
   ],
   "source": [
    "#2. why *args and **kwargs is used in some functions? Create a function each for *args and **kwargs to demonstrate their use.\n",
    "\n",
    "# In Python, *args and **kwargs are special syntax used in function definitions to allow for variable-length arguments. They provide flexibility when we want to define functions that can accept an arbitrary number of arguments or keyword arguments.\n",
    "\n",
    "#below example  using '*args':\n",
    "def concatenate_strings(*args):\n",
    "    result = \"\"\n",
    "    for string in args:\n",
    "        result += string\n",
    "    return result\n",
    "\n",
    "output = concatenate_strings(\"Hello, \", \"how \", \"are \", \"you?\")\n",
    "print(output)  \n",
    "\n",
    "#below example using '**kwargs' :\n",
    "def print_student_info(**kwargs):\n",
    "    for key, value in kwargs.items():\n",
    "        print(key + \": \" + value)\n",
    "\n",
    "print_student_info(name=\"John\", age=\"20\", grade=\"A\")\n",
    "\n"
   ]
  },
  {
   "cell_type": "code",
   "execution_count": 1,
   "id": "3ecc65c1-b6d1-462f-92b1-bd92b59e5c02",
   "metadata": {},
   "outputs": [
    {
     "name": "stdout",
     "output_type": "stream",
     "text": [
      "2\n",
      "4\n",
      "6\n",
      "8\n",
      "10\n"
     ]
    }
   ],
   "source": [
    "#3. What is an iterator in python? Name the method used to initialise the iterator object and the method used for iteration. Use these methods to print the first five elements of given list [2,4,6,8,10,12,14,16,18,20].\n",
    "\n",
    "# An iterator in Python is an object that is used to iterate over iterable objects like lists, tuples, dicts, and sets. The Python iterators object is initialized using the **iter()** method. It uses the **next()** method for iteration¹².\n",
    "#The **iter()** method is called for the initialization of an iterator. This returns an iterator object. The **next()** method returns the next value for the iterable. When we use a for loop to traverse any iterable object, internally it uses the iter() method to get an iterator object, which further uses the next() method to iterate over¹.\n",
    "\n",
    "#To print the first five elements of given list [2,4,6,8,10,12,14,16,18,20], we can use these methods as follows:\n",
    "\n",
    "mylist = [2,4,6,8,10,12,14,16,18,20]\n",
    "myiter = iter(mylist) \n",
    "for i in range(5): \n",
    "    print(next(myiter)) \n",
    " "
   ]
  },
  {
   "cell_type": "code",
   "execution_count": 3,
   "id": "3782d6d3-d689-4cb6-9f58-7feb5ea14422",
   "metadata": {},
   "outputs": [
    {
     "name": "stdout",
     "output_type": "stream",
     "text": [
      "0\n",
      "1\n",
      "1\n",
      "2\n",
      "3\n",
      "5\n",
      "8\n"
     ]
    }
   ],
   "source": [
    "#4. What is a generator function in python? Why yield keyword is used? Give an example of a generator function.\n",
    "\n",
    "#A generator function in Python is a function that returns an iterator that produces a sequence of values when iterated over. \n",
    "#The yield keyword is used to produce a value from the generator and pause the generator function’s execution until the next value is requested. This allows the generator to save its state and resume from where it left off when the next value is needed.\n",
    "#An example of a generator function that produces the Fibonacci numbers up to a given limit is:\n",
    "\n",
    "def fib(limit):\n",
    "    a = 0\n",
    "    b = 1\n",
    "\n",
    "    while a < limit:\n",
    "        yield a\n",
    "        a, b = b, a + b\n",
    "\n",
    "gen = fib(10)\n",
    "\n",
    "for num in gen:\n",
    "    print(num)\n"
   ]
  },
  {
   "cell_type": "code",
   "execution_count": 4,
   "id": "7f76569d-52af-4252-b021-2f4d79a5f9f6",
   "metadata": {},
   "outputs": [
    {
     "name": "stdout",
     "output_type": "stream",
     "text": [
      "2\n",
      "3\n",
      "5\n",
      "7\n",
      "11\n",
      "13\n",
      "17\n",
      "19\n",
      "23\n",
      "29\n",
      "31\n",
      "37\n",
      "41\n",
      "43\n",
      "47\n",
      "53\n",
      "59\n",
      "61\n",
      "67\n",
      "71\n"
     ]
    }
   ],
   "source": [
    "#5. Create a generator function for prime numbers less than 1000. Use the next() method to print the first 20 prime numbers.\n",
    "\n",
    "def prime_generator(limit):\n",
    "    num = 2\n",
    "\n",
    "    while num < limit:\n",
    "        is_prime = True\n",
    "\n",
    "        for i in range(2, int(num ** 0.5) + 1):\n",
    "            if num % i == 0:\n",
    "                is_prime = False\n",
    "                break\n",
    "        \n",
    "        if is_prime:\n",
    "            yield num\n",
    "        \n",
    "        num += 1\n",
    "\n",
    "        \n",
    "        \n",
    "# create a generator object that produces prime numbers less than 1000\n",
    "gen = prime_generator(1000)\n",
    "\n",
    "# loop 20 times\n",
    "for i in range(20):\n",
    "    print(next(gen))\n"
   ]
  },
  {
   "cell_type": "code",
   "execution_count": 18,
   "id": "a3d227a7-1e7f-446f-9e22-2064ce0c8383",
   "metadata": {},
   "outputs": [
    {
     "name": "stdout",
     "output_type": "stream",
     "text": [
      "0\n",
      "1\n",
      "1\n",
      "2\n",
      "3\n",
      "5\n",
      "8\n",
      "13\n",
      "21\n",
      "34\n"
     ]
    }
   ],
   "source": [
    "#6. Write a python program to print the first 10 Fibonacci numbers using a while loop.\n",
    "\n",
    "\n",
    "# initialize the first two Fibonacci numbers\n",
    "a = 0\n",
    "b = 1\n",
    "\n",
    "count = 0\n",
    "\n",
    "while count < 10:    \n",
    "    print(a)\n",
    "   \n",
    "    a, b = b, a + b\n",
    "   \n",
    "    count += 1\n",
    "\n"
   ]
  },
  {
   "cell_type": "code",
   "execution_count": 19,
   "id": "2e5e567c-a901-4a0c-9e4f-340486a9c892",
   "metadata": {},
   "outputs": [
    {
     "name": "stdout",
     "output_type": "stream",
     "text": [
      "['p', 'w', 's', 'k', 'i', 'l', 'l', 's']\n"
     ]
    }
   ],
   "source": [
    "#7. Write a list Comprehension to iterate through the given string: 'pwskills'.\n",
    "# Expected output: ['p','w','s','k','i','l','l','s'].\n",
    "\n",
    "my_string = 'pwskills'\n",
    "output = [char for char in my_string]\n",
    "print(output)\n"
   ]
  },
  {
   "cell_type": "code",
   "execution_count": 20,
   "id": "2c4d8da3-7043-44a5-807d-1619744bc5e8",
   "metadata": {},
   "outputs": [
    {
     "name": "stdin",
     "output_type": "stream",
     "text": [
      "Enter a number:  146\n"
     ]
    },
    {
     "name": "stdout",
     "output_type": "stream",
     "text": [
      "146 is not a palindrome\n"
     ]
    }
   ],
   "source": [
    "#8. Write a python program to check whether a given number is Palindrome or not using a while loop.\n",
    "\n",
    "num = int(input(\"Enter a number: \"))\n",
    "temp = num\n",
    "rev = 0\n",
    "while temp != 0:\n",
    "    rev = (rev * 10) + (temp % 10)\n",
    "    temp = temp // 10\n",
    "if num == rev:\n",
    "    print(num, \"is a palindrome\")\n",
    "else:\n",
    "    print(num, \"is not a palindrome\")\n"
   ]
  },
  {
   "cell_type": "code",
   "execution_count": 21,
   "id": "b50b4b7b-fe9a-40a5-8a8f-8e961877ef3c",
   "metadata": {},
   "outputs": [
    {
     "name": "stdout",
     "output_type": "stream",
     "text": [
      "[1, 3, 5, 7, 9, 11, 13, 15, 17, 19, 21, 23, 25, 27, 29, 31, 33, 35, 37, 39, 41, 43, 45, 47, 49, 51, 53, 55, 57, 59, 61, 63, 65, 67, 69, 71, 73, 75, 77, 79, 81, 83, 85, 87, 89, 91, 93, 95, 97, 99]\n"
     ]
    }
   ],
   "source": [
    "#9. Write a code to print odd numbers from 1 too 100 using list comprehension.\n",
    "\n",
    "numbers = [x for x in range(1, 101)]\n",
    "odd_numbers = [num for num in numbers if num % 2 != 0]\n",
    "print(odd_numbers)\n"
   ]
  },
  {
   "cell_type": "code",
   "execution_count": null,
   "id": "7c3368ff-5540-4de6-aa5a-9278a297f0f9",
   "metadata": {},
   "outputs": [],
   "source": []
  }
 ],
 "metadata": {
  "kernelspec": {
   "display_name": "Python 3 (ipykernel)",
   "language": "python",
   "name": "python3"
  },
  "language_info": {
   "codemirror_mode": {
    "name": "ipython",
    "version": 3
   },
   "file_extension": ".py",
   "mimetype": "text/x-python",
   "name": "python",
   "nbconvert_exporter": "python",
   "pygments_lexer": "ipython3",
   "version": "3.10.8"
  }
 },
 "nbformat": 4,
 "nbformat_minor": 5
}
