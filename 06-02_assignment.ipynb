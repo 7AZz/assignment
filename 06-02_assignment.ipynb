{
 "cells": [
  {
   "cell_type": "code",
   "execution_count": 1,
   "id": "5a9dce3f-bd86-4e90-a4c8-92cff7334107",
   "metadata": {},
   "outputs": [
    {
     "name": "stdout",
     "output_type": "stream",
     "text": [
      "\n"
     ]
    }
   ],
   "source": [
    "#Q1. Create a function which will take a list as an argument and return the product of all the numbers\n",
    "#after creating a flat list.\n",
    "#Use the below-given list as an argument for your function.\n",
    "#list1 = [1,2,3,4, [44,55,66, True], False, (34,56,78,89,34), {1,2,3,3,2,1}, {1:34, \"key2\": [55, 67, 78, 89], 4: (45,\n",
    "#22, 61, 34)}, [56, 'data science'], 'Machine Learning']\n",
    "#Note: you must extract numeric keys and values of the dictionary also.\n",
    "\n",
    "# Here is a function that takes a list as an argument and returns the product of all the numbers in the list after flattening it:\n",
    "\n",
    "def multiplyList(myList):\n",
    "    flat_list = []\n",
    "    for sublist in myList:\n",
    "        if type(sublist) == list:\n",
    "            for item in sublist:\n",
    "                flat_list.append(item)\n",
    "        elif type(sublist) == tuple:\n",
    "            for item in sublist:\n",
    "                flat_list.append(item)\n",
    "        elif type(sublist) == set:\n",
    "            for item in sublist:\n",
    "                flat_list.append(item)\n",
    "        elif type(sublist) == dict:\n",
    "            for key, value in sublist.items():\n",
    "                if isinstance(key, int):\n",
    "                    flat_list.append(key)\n",
    "                if isinstance(value, int):\n",
    "                    flat_list.append(value)\n",
    "        else:\n",
    "            if isinstance(sublist, int):\n",
    "                flat_list.append(sublist)\n",
    "\n",
    "    result = 1\n",
    "    for x in flat_list:\n",
    "        result = result * x\n",
    "    return result\n",
    "\n",
    "list1 = [1,2,3,4, [44,55,66, True], False, (34,56,78,89,34), {1,2,3,3,2,1}, {1:34,\"key2\":[55,67,78,89],4:(45,\n",
    "22,61,34)}, [56,'data science'], 'Machine Learning']\n",
    "print(multiplyList(list1))\n"
   ]
  },
  {
   "cell_type": "code",
   "execution_count": null,
   "id": "b78d03a6-33d9-4af9-b431-8bd21ec90e27",
   "metadata": {},
   "outputs": [],
   "source": [
    "#Q2. Write a python program for encrypting a message sent to you by your friend. The logic of encryption should be such that, for a the output should be z. For b, the output should be y. For c, the output should\n",
    "#be x respectively. Also, the whitespace should be replaced with a dollar sign. Keep the punctuation marks unchanged.\n",
    "#Input Sentence: I want to become a Data Scientist.\n",
    "#Encrypt the above input sentence using the program you just created.\n",
    "#Note: Convert the given input sentence into lowercase before encrypting. The final output should be lowercase.\n",
    "\n"
   ]
  }
 ],
 "metadata": {
  "kernelspec": {
   "display_name": "Python 3 (ipykernel)",
   "language": "python",
   "name": "python3"
  },
  "language_info": {
   "codemirror_mode": {
    "name": "ipython",
    "version": 3
   },
   "file_extension": ".py",
   "mimetype": "text/x-python",
   "name": "python",
   "nbconvert_exporter": "python",
   "pygments_lexer": "ipython3",
   "version": "3.10.8"
  }
 },
 "nbformat": 4,
 "nbformat_minor": 5
}
