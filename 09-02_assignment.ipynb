{
 "cells": [
  {
   "cell_type": "code",
   "execution_count": 1,
   "id": "cc472370-0597-4d7d-b8a0-6d29a9ff9c60",
   "metadata": {},
   "outputs": [],
   "source": [
    "#Q1, Create a vehicle class with an init method having instance variables as name_of_vehicle, max_speed and average_of_vehicle.\n",
    "\n",
    "class vehicle :\n",
    "    def __init__(self, name_of_vehicle, max_speed, average_of_vehicle) :\n",
    "        self.name_of_vehicle = name_of_vehicle\n",
    "        self.max_speed = max_speed\n",
    "        self.average_of_vehicle = average_of_vehicle"
   ]
  },
  {
   "cell_type": "code",
   "execution_count": 2,
   "id": "efe1644a-8a71-404b-8215-b10e7bad32a3",
   "metadata": {},
   "outputs": [],
   "source": [
    "#Q2. Create a child class car from the vehicle class created in Que 1, which will inherit the vehicle class.\n",
    "#Create a method named seating_capacity which takes capacity as an argument and returns the name of the vehicle and its seating capacity.\n",
    "\n",
    "class Car(vehicle) :\n",
    "    def seating_capacity(self, capacity) :\n",
    "        return f\"{self.name_of_vehicle} has a seating capacity of {capacity}\""
   ]
  },
  {
   "cell_type": "code",
   "execution_count": 3,
   "id": "1944c747-f69e-4daf-b974-43bc0e4ba2a3",
   "metadata": {},
   "outputs": [
    {
     "name": "stdout",
     "output_type": "stream",
     "text": [
      "method1 of Parent1\n",
      "method2 of Parent2\n"
     ]
    }
   ],
   "source": [
    "#Q3. What is multiple inheritance? Write a python code to demonstrate multiple inheritance.\n",
    "\n",
    "#Multiple inheritance is a feature in which a class can inherit attributes and methods from more than one parent class.\n",
    "#Here is an example that demonstrates multiple inheritance in Python:\n",
    "\n",
    "class Parent1 :\n",
    "    def method1(self) :\n",
    "        print(\"method1 of Parent1\")\n",
    "        \n",
    "class Parent2 :\n",
    "    def method2(self):\n",
    "        print(\"method2 of Parent2\")\n",
    "        \n",
    "class Child(Parent1, Parent2) :\n",
    "    pass\n",
    "c = Child()\n",
    "c.method1()\n",
    "c.method2()"
   ]
  },
  {
   "cell_type": "code",
   "execution_count": 4,
   "id": "17c3646a-1213-41c9-93fe-98b4114ce7fa",
   "metadata": {},
   "outputs": [],
   "source": [
    "#Q4. What are getter and setter in python? Create a class and create a getter and a setter method in this class.\n",
    "\n",
    "# In Python, getter and setter methods are used to define and access the value of an attribute in a class.\n",
    "# Here is an example that demonstrates the use of getter and setter methods in a class:\n",
    "\n",
    "class MyClass:\n",
    "    def __init__(self):\n",
    "        self._my_attribute = 0\n",
    "\n",
    "    @property\n",
    "    def my_attribute(self):\n",
    "        return self._my_attribute\n",
    "\n",
    "    @my_attribute.setter\n",
    "    def my_attribute(self, value):\n",
    "        if value < 0:\n",
    "            raise ValueError(\"Value cannot be negative\")\n",
    "        self._my_attribute = value\n"
   ]
  },
  {
   "cell_type": "code",
   "execution_count": null,
   "id": "b6f10015-663b-471d-a908-56c6d8e81747",
   "metadata": {},
   "outputs": [],
   "source": [
    "# Q5.What is method overriding in python? Write a python code to demonstrate method overriding.\n",
    "\n",
    "#Method overriding is a feature in which a subclass can provide its own implementation of a method that is already defined in its parent class.\n",
    "#Here is an example that demonstrates method overriding in Python:\n",
    "\n",
    "class Parent :\n",
    "    def my_method(self) :\n",
    "        print(\"Parent method\")"
   ]
  }
 ],
 "metadata": {
  "kernelspec": {
   "display_name": "Python 3 (ipykernel)",
   "language": "python",
   "name": "python3"
  },
  "language_info": {
   "codemirror_mode": {
    "name": "ipython",
    "version": 3
   },
   "file_extension": ".py",
   "mimetype": "text/x-python",
   "name": "python",
   "nbconvert_exporter": "python",
   "pygments_lexer": "ipython3",
   "version": "3.10.8"
  }
 },
 "nbformat": 4,
 "nbformat_minor": 5
}
