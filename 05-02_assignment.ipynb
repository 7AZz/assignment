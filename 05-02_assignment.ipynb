{
 "cells": [
  {
   "cell_type": "code",
   "execution_count": 1,
   "id": "956c1824-4b7c-408a-b8e6-1b1b953e4472",
   "metadata": {},
   "outputs": [],
   "source": [
    "#Q1. Explain Class and Object with respect to Object-Oriented Programming. Give a suitable example.\n",
    "\n",
    "#A class is a blueprint for creating objects in object-oriented programming. It defines the attributes and behaviors of the objects that will be created from it.\n",
    "#An object, on the other hand, is an instance of a class. It has its own set of attributes and can perform actions defined by its class.\n",
    "#For example, consider a class `Car` that has attributes such as `make`, `model`, and `year`, and methods such as `drive()` and `park()`. An object of this class could be a specific car, such as a 2010 Honda Civic, that has its own values for the attributes and can perform the actions defined by the class.\n",
    "\n"
   ]
  },
  {
   "cell_type": "code",
   "execution_count": 2,
   "id": "b8036dcb-a555-4fc7-82bc-6a0a6a6ce2e1",
   "metadata": {},
   "outputs": [],
   "source": [
    "#Q2. Name the four pillars of OOPs.\n",
    "\n",
    "# The four pillars of Object-Oriented Programming (OOP) are Abstraction, Encapsulation, Inheritance, and Polymorphism.\n"
   ]
  },
  {
   "cell_type": "code",
   "execution_count": 4,
   "id": "1d9ca39c-2abb-454c-b8ea-b43255bdbd9c",
   "metadata": {},
   "outputs": [],
   "source": [
    "#Q3. Explain why the __init__() function is used. Give a suitable example.\n",
    "\n",
    "\n",
    "#The `__init__()` function is a special method in Python classes that is called when an object is created from the class. It is used to initialize the attributes of the object.\n",
    "#For example, consider a class `Person` with attributes `name` and `age`. The `__init__()` function could be used to set the values of these attributes when an object is created from the class.\n",
    "\n"
   ]
  },
  {
   "cell_type": "code",
   "execution_count": 5,
   "id": "b299cba1-86d1-44d3-be04-3c6b2790b03b",
   "metadata": {},
   "outputs": [],
   "source": [
    "#Q4. Why self is used in OOPs?\n",
    "\n",
    "\n",
    "#In Python, the first argument of every method in a class is a reference to the instance of the class that the method is being called on. This argument is typically named `self`. It allows methods to access and modify the attributes of the instance.\n"
   ]
  },
  {
   "cell_type": "code",
   "execution_count": null,
   "id": "caeb6efe-f53d-43b8-b000-255da8fe2158",
   "metadata": {},
   "outputs": [],
   "source": [
    "#Q5. What is inheritance? Give an example for each type of inheritance.\n",
    "\n",
    "# Inheritance is a mechanism in Object-Oriented Programming (OOP) that allows a new class to be created based on an existing class. The new class, called the subclass or derived class, inherits all the attributes and methods of the existing class, called the superclass or base class. The subclass can also add new attributes and methods or override existing ones. There are several types of inheritance, including single inheritance (where a subclass inherits from one superclass), multiple inheritance (where a subclass inherits from multiple superclasses), multilevel inheritance (where a subclass inherits from a superclass which itself inherits from another superclass), and hierarchical inheritance (where multiple subclasses inherit from a single superclass)¹⁸.\n"
   ]
  }
 ],
 "metadata": {
  "kernelspec": {
   "display_name": "Python 3 (ipykernel)",
   "language": "python",
   "name": "python3"
  },
  "language_info": {
   "codemirror_mode": {
    "name": "ipython",
    "version": 3
   },
   "file_extension": ".py",
   "mimetype": "text/x-python",
   "name": "python",
   "nbconvert_exporter": "python",
   "pygments_lexer": "ipython3",
   "version": "3.10.8"
  }
 },
 "nbformat": 4,
 "nbformat_minor": 5
}
